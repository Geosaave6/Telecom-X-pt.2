# =====================================
# 📌 Expansión de columnas tipo diccionario
# Autor: Geovanni Saavedra
# Fecha: 19-08-2025
# =====================================

import pandas as pd

# Cargar dataset (ajusta ruta si es necesario)
df = pd.read_json("TelecomX_Data.json")

# Mostrar estructura original
print("🔎 Columnas originales:")
print(df.columns)

# --- Expandir columnas tipo diccionario ---
# Detectamos cuáles columnas contienen diccionarios
cols_dict = ['customer', 'phone', 'internet', 'account']

for col in cols_dict:
    expanded = pd.json_normalize(df[col])  # Expande el diccionario en columnas
    expanded.columns = [f"{col}_{subcol}" for subcol in expanded.columns]  # Renombrar
    df = df.drop(columns=[col]).join(expanded)  # Eliminar columna original y añadir expandida

# Mostrar primeras filas del DataFrame expandido
print("\n✅ Dataset expandido:")
print(df.head(3))

# Guardar versión limpia para análisis
df.to_csv("TelecomX_Data_Clean.csv", index=False)
print("\n💾 Archivo guardado como: TelecomX_Data_Clean.csv")

# Revisar resumen de nulos otra vez
print("\n📊 Valores nulos por columna:")
print(df.isnull().sum())
