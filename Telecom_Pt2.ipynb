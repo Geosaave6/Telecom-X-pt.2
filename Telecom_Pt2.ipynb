# ================================================
# 📊 ANÁLISIS EXPLORATORIO DE DATOS (EDA)
# Autor: Geovanni Saavedra
# Fecha: 19/08/2025
# ================================================

import pandas as pd
import matplotlib.pyplot as plt
import seaborn as sns

# ===============================
# 1️⃣ Información general del DataFrame
# ===============================
print("🔎 Vista general del dataset:")
print(df.info())
print("\n")
print("📌 Primeras 5 filas:")
display(df.head())

# ===============================
# 2️⃣ Valores nulos
# ===============================
print("\n❌ Valores nulos por columna:")
print(df.isnull().sum())

plt.figure(figsize=(8, 5))
sns.heatmap(df.isnull(), cbar=False, cmap="viridis")
plt.title("Mapa de valores nulos")
plt.show()

# ===============================
# 3️⃣ Estadísticas descriptivas
# ===============================
print("\n📊 Estadísticas descriptivas:")
display(df.describe(include="all").T)

# ===============================
# 4️⃣ Distribuciones de variables numéricas
# ===============================
num_cols = df.select_dtypes(include="number").columns

if len(num_cols) > 0:
    df[num_cols].hist(figsize=(14, 10), bins=20, edgecolor="black")
    plt.suptitle("Distribuciones de variables numéricas", size=16)
    plt.show()
else:
    print("⚠️ No hay columnas numéricas para graficar distribuciones.")

# ===============================
# 5️⃣ Correlaciones
# ===============================
corr = df.corr(numeric_only=True)

if corr.empty:
    print("⚠️ No hay columnas numéricas para calcular correlaciones.")
else:
    plt.figure(figsize=(10, 8))
    sns.heatmap(corr, cmap="coolwarm", center=0, annot=True, fmt=".2f")
    plt.title("Mapa de correlaciones")
    plt.show()

# ===============================
# 6️⃣ Outliers con boxplots
# ===============================
if len(num_cols) > 0:
    plt.figure(figsize=(12, 6))
    df[num_cols].boxplot()
    plt.title("Detección de outliers en variables numéricas")
    plt.xticks(rotation=45)
    plt.show()
else:
    print("⚠️ No hay columnas numéricas para detectar outliers.")

print("\n✅ Análisis exploratorio finalizado.")
